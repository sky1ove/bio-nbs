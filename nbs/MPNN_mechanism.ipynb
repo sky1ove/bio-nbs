{
 "cells": [
  {
   "cell_type": "markdown",
   "metadata": {
    "id": "9gGd2aslb4rI"
   },
   "source": [
    "## Setup"
   ]
  },
  {
   "cell_type": "code",
   "execution_count": null,
   "metadata": {
    "colab": {
     "base_uri": "https://localhost:8080/"
    },
    "id": "8PF5rRJpbrVg",
    "outputId": "f756ab28-a96b-499c-9b28-c1d9d32b73f3"
   },
   "outputs": [
    {
     "name": "stdout",
     "output_type": "stream",
     "text": [
      "Collecting torch_geometric\n",
      "  Downloading torch_geometric-2.6.1-py3-none-any.whl.metadata (63 kB)\n",
      "\u001b[?25l     \u001b[90m━━━━━━━━━━━━━━━━━━━━━━━━━━━━━━━━━━━━━━━━\u001b[0m \u001b[32m0.0/63.1 kB\u001b[0m \u001b[31m?\u001b[0m eta \u001b[36m-:--:--\u001b[0m\r",
      "\u001b[2K     \u001b[90m━━━━━━━━━━━━━━━━━━━━━━━━━━━━━━━━━━━━━━━━\u001b[0m \u001b[32m63.1/63.1 kB\u001b[0m \u001b[31m3.7 MB/s\u001b[0m eta \u001b[36m0:00:00\u001b[0m\n",
      "\u001b[?25hRequirement already satisfied: aiohttp in /usr/local/lib/python3.10/dist-packages (from torch_geometric) (3.10.10)\n",
      "Requirement already satisfied: fsspec in /usr/local/lib/python3.10/dist-packages (from torch_geometric) (2024.6.1)\n",
      "Requirement already satisfied: jinja2 in /usr/local/lib/python3.10/dist-packages (from torch_geometric) (3.1.4)\n",
      "Requirement already satisfied: numpy in /usr/local/lib/python3.10/dist-packages (from torch_geometric) (1.26.4)\n",
      "Requirement already satisfied: psutil>=5.8.0 in /usr/local/lib/python3.10/dist-packages (from torch_geometric) (5.9.5)\n",
      "Requirement already satisfied: pyparsing in /usr/local/lib/python3.10/dist-packages (from torch_geometric) (3.2.0)\n",
      "Requirement already satisfied: requests in /usr/local/lib/python3.10/dist-packages (from torch_geometric) (2.32.3)\n",
      "Requirement already satisfied: tqdm in /usr/local/lib/python3.10/dist-packages (from torch_geometric) (4.66.5)\n",
      "Requirement already satisfied: aiohappyeyeballs>=2.3.0 in /usr/local/lib/python3.10/dist-packages (from aiohttp->torch_geometric) (2.4.3)\n",
      "Requirement already satisfied: aiosignal>=1.1.2 in /usr/local/lib/python3.10/dist-packages (from aiohttp->torch_geometric) (1.3.1)\n",
      "Requirement already satisfied: attrs>=17.3.0 in /usr/local/lib/python3.10/dist-packages (from aiohttp->torch_geometric) (24.2.0)\n",
      "Requirement already satisfied: frozenlist>=1.1.1 in /usr/local/lib/python3.10/dist-packages (from aiohttp->torch_geometric) (1.4.1)\n",
      "Requirement already satisfied: multidict<7.0,>=4.5 in /usr/local/lib/python3.10/dist-packages (from aiohttp->torch_geometric) (6.1.0)\n",
      "Requirement already satisfied: yarl<2.0,>=1.12.0 in /usr/local/lib/python3.10/dist-packages (from aiohttp->torch_geometric) (1.16.0)\n",
      "Requirement already satisfied: async-timeout<5.0,>=4.0 in /usr/local/lib/python3.10/dist-packages (from aiohttp->torch_geometric) (4.0.3)\n",
      "Requirement already satisfied: MarkupSafe>=2.0 in /usr/local/lib/python3.10/dist-packages (from jinja2->torch_geometric) (3.0.2)\n",
      "Requirement already satisfied: charset-normalizer<4,>=2 in /usr/local/lib/python3.10/dist-packages (from requests->torch_geometric) (3.4.0)\n",
      "Requirement already satisfied: idna<4,>=2.5 in /usr/local/lib/python3.10/dist-packages (from requests->torch_geometric) (3.10)\n",
      "Requirement already satisfied: urllib3<3,>=1.21.1 in /usr/local/lib/python3.10/dist-packages (from requests->torch_geometric) (2.2.3)\n",
      "Requirement already satisfied: certifi>=2017.4.17 in /usr/local/lib/python3.10/dist-packages (from requests->torch_geometric) (2024.8.30)\n",
      "Requirement already satisfied: typing-extensions>=4.1.0 in /usr/local/lib/python3.10/dist-packages (from multidict<7.0,>=4.5->aiohttp->torch_geometric) (4.12.2)\n",
      "Requirement already satisfied: propcache>=0.2.0 in /usr/local/lib/python3.10/dist-packages (from yarl<2.0,>=1.12.0->aiohttp->torch_geometric) (0.2.0)\n",
      "Downloading torch_geometric-2.6.1-py3-none-any.whl (1.1 MB)\n",
      "\u001b[2K   \u001b[90m━━━━━━━━━━━━━━━━━━━━━━━━━━━━━━━━━━━━━━━━\u001b[0m \u001b[32m1.1/1.1 MB\u001b[0m \u001b[31m29.3 MB/s\u001b[0m eta \u001b[36m0:00:00\u001b[0m\n",
      "\u001b[?25hInstalling collected packages: torch_geometric\n",
      "Successfully installed torch_geometric-2.6.1\n"
     ]
    }
   ],
   "source": [
    "!pip install torch_geometric"
   ]
  },
  {
   "cell_type": "code",
   "execution_count": null,
   "metadata": {
    "id": "OA7RHWXHbsxy"
   },
   "outputs": [],
   "source": [
    "import torch"
   ]
  },
  {
   "cell_type": "code",
   "execution_count": null,
   "metadata": {
    "colab": {
     "base_uri": "https://localhost:8080/",
     "height": 35
    },
    "id": "qFem8zmL3sns",
    "outputId": "78e29e84-82a2-47e8-edbd-9ad2074975a7"
   },
   "outputs": [
    {
     "data": {
      "application/vnd.google.colaboratory.intrinsic+json": {
       "type": "string"
      },
      "text/plain": [
       "'2.5.0+cu121'"
      ]
     },
     "execution_count": 4,
     "metadata": {},
     "output_type": "execute_result"
    }
   ],
   "source": [
    "torch.__version__"
   ]
  },
  {
   "cell_type": "markdown",
   "metadata": {
    "id": "nJBXAJwj38HH"
   },
   "source": [
    "Now 2.4.0 is available"
   ]
  },
  {
   "cell_type": "code",
   "execution_count": null,
   "metadata": {
    "id": "yPqFFH0Q37ki"
   },
   "outputs": [],
   "source": [
    "version = '2.4.0+cu121'"
   ]
  },
  {
   "cell_type": "code",
   "execution_count": null,
   "metadata": {
    "colab": {
     "base_uri": "https://localhost:8080/"
    },
    "id": "3F2isKH0bOwu",
    "outputId": "1411467d-8fba-4b9e-a285-956b804502b5"
   },
   "outputs": [
    {
     "name": "stdout",
     "output_type": "stream",
     "text": [
      "Looking in links: https://data.pyg.org/whl/torch-2.4.0+cu121.html\n",
      "Collecting torch-scatter\n",
      "  Downloading https://data.pyg.org/whl/torch-2.4.0%2Bcu121/torch_scatter-2.1.2%2Bpt24cu121-cp310-cp310-linux_x86_64.whl (10.9 MB)\n",
      "\u001b[2K     \u001b[90m━━━━━━━━━━━━━━━━━━━━━━━━━━━━━━━━━━━━━━━━\u001b[0m \u001b[32m10.9/10.9 MB\u001b[0m \u001b[31m85.1 MB/s\u001b[0m eta \u001b[36m0:00:00\u001b[0m\n",
      "\u001b[?25hInstalling collected packages: torch-scatter\n",
      "Successfully installed torch-scatter-2.1.2+pt24cu121\n"
     ]
    }
   ],
   "source": [
    "url = f\"https://data.pyg.org/whl/torch-{version}.html\"\n",
    "!pip install torch-scatter -f {url}"
   ]
  },
  {
   "cell_type": "markdown",
   "metadata": {
    "id": "e6Bjq-V94IYA"
   },
   "source": [
    "## Mechanism"
   ]
  },
  {
   "cell_type": "code",
   "execution_count": null,
   "metadata": {
    "id": "HTx5LwiQ4NJ_"
   },
   "outputs": [],
   "source": [
    "g = torch.tensor([[0,0,2,3],[1,3,1,1]],dtype=torch.long)\n",
    "x = torch.randn(4,3)\n",
    "x_e = torch.randn(4,2)\n",
    "\n",
    "def message_func(g,x,x_e):\n",
    "  src = x[g[0]]\n",
    "  dst = x[g[1]]\n",
    "  return src\n",
    "\n",
    "message = message_func(g,x,x_e)"
   ]
  },
  {
   "cell_type": "code",
   "execution_count": null,
   "metadata": {
    "id": "BrAxK3ctbxmI"
   },
   "outputs": [],
   "source": [
    "g = torch.tensor([[0,0,2,3],[1,3,1,1]],dtype=torch.long)"
   ]
  },
  {
   "cell_type": "code",
   "execution_count": null,
   "metadata": {
    "id": "NoM95e5EcJN2"
   },
   "outputs": [],
   "source": [
    "x = torch.randn(4,3)"
   ]
  },
  {
   "cell_type": "code",
   "execution_count": null,
   "metadata": {
    "id": "XDkVV-WTcO_2"
   },
   "outputs": [],
   "source": [
    "x_e = torch.randn(4,2)"
   ]
  },
  {
   "cell_type": "code",
   "execution_count": null,
   "metadata": {
    "id": "PjAg1x8scQeV"
   },
   "outputs": [],
   "source": [
    "def message_func(g,x,x_e):\n",
    "  src = x[g[0]]\n",
    "  dst = x[g[1]]\n",
    "  return src"
   ]
  },
  {
   "cell_type": "code",
   "execution_count": null,
   "metadata": {
    "id": "okzyUciscWPl"
   },
   "outputs": [],
   "source": [
    "message = message_func(g,x,x_e)"
   ]
  },
  {
   "cell_type": "code",
   "execution_count": null,
   "metadata": {
    "colab": {
     "base_uri": "https://localhost:8080/"
    },
    "id": "42NZ_bI8cdDF",
    "outputId": "479c8144-1a32-415f-d736-2bc68a27c551"
   },
   "outputs": [
    {
     "data": {
      "text/plain": [
       "tensor([[ 0.2792, -0.3888,  0.9433],\n",
       "        [ 0.2792, -0.3888,  0.9433],\n",
       "        [ 1.4204,  0.6912,  0.3983],\n",
       "        [ 1.2190,  0.1917, -1.3613]])"
      ]
     },
     "execution_count": 12,
     "metadata": {},
     "output_type": "execute_result"
    }
   ],
   "source": [
    "message"
   ]
  },
  {
   "cell_type": "code",
   "execution_count": null,
   "metadata": {
    "colab": {
     "base_uri": "https://localhost:8080/"
    },
    "id": "OKG6YN1HcdiM",
    "outputId": "4d7c3ea7-9361-464a-d3b2-b6215a5ce6be"
   },
   "outputs": [
    {
     "data": {
      "text/plain": [
       "tensor([[ 0.6476, -0.3849,  0.4243],\n",
       "        [-1.2170,  2.3134, -0.0156],\n",
       "        [-0.6478, -1.8168, -0.3283],\n",
       "        [ 1.6240, -0.1349, -0.9557]])"
      ]
     },
     "execution_count": 133,
     "metadata": {},
     "output_type": "execute_result"
    }
   ],
   "source": [
    "x"
   ]
  },
  {
   "cell_type": "code",
   "execution_count": null,
   "metadata": {
    "id": "ivK53jhEcoZd"
   },
   "outputs": [],
   "source": [
    "def update_func(x,x_reduce):\n",
    "  return x+ x_reduce"
   ]
  },
  {
   "cell_type": "code",
   "execution_count": null,
   "metadata": {
    "id": "HxQXnDH9csb9"
   },
   "outputs": [],
   "source": [
    "new_x = update_func(x,x_reduce)"
   ]
  },
  {
   "cell_type": "code",
   "execution_count": null,
   "metadata": {
    "id": "Y8JPmcsccuGl"
   },
   "outputs": [],
   "source": [
    "x = torch.tensor([[1],[0.1],[0.01],[0.001]])"
   ]
  },
  {
   "cell_type": "code",
   "execution_count": null,
   "metadata": {
    "colab": {
     "base_uri": "https://localhost:8080/"
    },
    "id": "QGvAQ5CBc4u9",
    "outputId": "aa607ea6-5202-4871-a57d-910ef0d75ca4"
   },
   "outputs": [
    {
     "data": {
      "text/plain": [
       "tensor([[1.0000],\n",
       "        [0.1000],\n",
       "        [0.0100],\n",
       "        [0.0010]])"
      ]
     },
     "execution_count": 140,
     "metadata": {},
     "output_type": "execute_result"
    }
   ],
   "source": [
    "x"
   ]
  },
  {
   "cell_type": "code",
   "execution_count": null,
   "metadata": {
    "id": "QtzFrvk1c5F1"
   },
   "outputs": [],
   "source": [
    "message = message_func(g,x,x_e)"
   ]
  },
  {
   "cell_type": "code",
   "execution_count": null,
   "metadata": {
    "colab": {
     "base_uri": "https://localhost:8080/"
    },
    "id": "RycNUbZmc8FV",
    "outputId": "9c8208f6-5501-4b62-b5fa-92ac5b62f02f"
   },
   "outputs": [
    {
     "data": {
      "text/plain": [
       "tensor([[1.0000],\n",
       "        [1.0000],\n",
       "        [0.0100],\n",
       "        [0.0010]])"
      ]
     },
     "execution_count": 142,
     "metadata": {},
     "output_type": "execute_result"
    }
   ],
   "source": [
    "message"
   ]
  },
  {
   "cell_type": "code",
   "execution_count": null,
   "metadata": {
    "id": "mJiI58WVc8d1"
   },
   "outputs": [],
   "source": [
    "from torch_scatter import scatter"
   ]
  },
  {
   "cell_type": "code",
   "execution_count": null,
   "metadata": {
    "id": "fuqCqBuec_vF"
   },
   "outputs": [],
   "source": [
    "def reduce_func(g,message):\n",
    "  return scatter(message,g[1],dim=0, reduce='sum')"
   ]
  },
  {
   "cell_type": "code",
   "execution_count": null,
   "metadata": {
    "id": "uLNu5xIBdD7M"
   },
   "outputs": [],
   "source": [
    "x_reduce = reduce_func(g,message)"
   ]
  },
  {
   "cell_type": "code",
   "execution_count": null,
   "metadata": {
    "colab": {
     "base_uri": "https://localhost:8080/"
    },
    "id": "XnQVAkpnC5l3",
    "outputId": "5d474920-7a14-41c3-c7d8-88afe0a3b0f7"
   },
   "outputs": [
    {
     "data": {
      "text/plain": [
       "tensor([[ 0.2792, -0.3888,  0.9433],\n",
       "        [ 0.2792, -0.3888,  0.9433],\n",
       "        [ 1.4204,  0.6912,  0.3983],\n",
       "        [ 1.2190,  0.1917, -1.3613]])"
      ]
     },
     "execution_count": 21,
     "metadata": {},
     "output_type": "execute_result"
    }
   ],
   "source": [
    "message"
   ]
  },
  {
   "cell_type": "code",
   "execution_count": null,
   "metadata": {
    "colab": {
     "base_uri": "https://localhost:8080/"
    },
    "id": "xcOEg-CAC7Hh",
    "outputId": "7467ea52-443c-4f81-f7fe-0e5a169559b2"
   },
   "outputs": [
    {
     "data": {
      "text/plain": [
       "tensor([1, 3, 1, 1])"
      ]
     },
     "execution_count": 23,
     "metadata": {},
     "output_type": "execute_result"
    }
   ],
   "source": [
    "g[1]"
   ]
  },
  {
   "cell_type": "code",
   "execution_count": null,
   "metadata": {
    "colab": {
     "base_uri": "https://localhost:8080/"
    },
    "id": "VHui1j2sdF_M",
    "outputId": "a79374f2-d495-49fa-e518-ab8ef0e212a9"
   },
   "outputs": [
    {
     "data": {
      "text/plain": [
       "tensor([[ 0.0000,  0.0000,  0.0000],\n",
       "        [ 2.9186,  0.4941, -0.0197],\n",
       "        [ 0.0000,  0.0000,  0.0000],\n",
       "        [ 0.2792, -0.3888,  0.9433]])"
      ]
     },
     "execution_count": 20,
     "metadata": {},
     "output_type": "execute_result"
    }
   ],
   "source": [
    "x_reduce"
   ]
  },
  {
   "cell_type": "code",
   "execution_count": null,
   "metadata": {
    "colab": {
     "base_uri": "https://localhost:8080/"
    },
    "id": "vpJBD-iddU8e",
    "outputId": "7a1f7a59-2957-4297-e3c4-a99769893d53"
   },
   "outputs": [
    {
     "data": {
      "text/plain": [
       "torch.Size([2, 4])"
      ]
     },
     "execution_count": 147,
     "metadata": {},
     "output_type": "execute_result"
    }
   ],
   "source": [
    "g.shape"
   ]
  },
  {
   "cell_type": "code",
   "execution_count": null,
   "metadata": {
    "id": "KnKe3x3bdGmc"
   },
   "outputs": [],
   "source": [
    "def get_in_degrees(g):\n",
    "  inputs = torch.ones(g.size(1))\n",
    "  return scatter(inputs, g[1],reduce='sum')"
   ]
  },
  {
   "cell_type": "code",
   "execution_count": null,
   "metadata": {
    "id": "3O054z57dbDc"
   },
   "outputs": [],
   "source": [
    "degrees = get_in_degrees(g)"
   ]
  },
  {
   "cell_type": "code",
   "execution_count": null,
   "metadata": {
    "colab": {
     "base_uri": "https://localhost:8080/"
    },
    "id": "5397SXj2dd7k",
    "outputId": "d3e4e38b-db59-4dd4-b5d7-749d03baf7ee"
   },
   "outputs": [
    {
     "data": {
      "text/plain": [
       "tensor([0., 3., 0., 1.])"
      ]
     },
     "execution_count": 26,
     "metadata": {},
     "output_type": "execute_result"
    }
   ],
   "source": [
    "degrees"
   ]
  },
  {
   "cell_type": "code",
   "execution_count": null,
   "metadata": {
    "id": "aOza2s58EGBX"
   },
   "outputs": [],
   "source": []
  },
  {
   "cell_type": "code",
   "execution_count": null,
   "metadata": {
    "id": "T986BlIcdeZ8"
   },
   "outputs": [],
   "source": [
    "from torch_geometric.nn.conv import MessagePassing"
   ]
  },
  {
   "cell_type": "code",
   "execution_count": null,
   "metadata": {
    "id": "nh4T3GoLdkwU"
   },
   "outputs": [],
   "source": [
    "class GCNLayer(MessagePassing):\n",
    "  def __init__(self):\n",
    "    super().__init__(aggr='add')\n",
    "    self.lin = torch.nn.Linear(2,3)\n",
    "\n",
    "  def forward(self,g,x): # edge before node feature x\n",
    "    print('input node feature',x)\n",
    "\n",
    "    x = self.lin(x)\n",
    "    print('step1, linear trasnform the node features:',x)\n",
    "    degrees = get_in_degrees(g)\n",
    "    degrees = 1/(torch.pow(degrees,-0.5)+1e-16)\n",
    "\n",
    "    src_d = degrees[g[0]]\n",
    "    dst_d = degrees[g[1]]\n",
    "    print('src_d:',src_d,'dst_d:',dst_d)\n",
    "    weight = (src_d*dst_d).unsqueeze(1)\n",
    "    print('step2 normalized degree:',weight)\n",
    "\n",
    "    out = self.propagate(g,x=x, weight = weight)\n",
    "    print('step5', out)\n",
    "\n",
    "    return out\n",
    "\n",
    "  def message(self,x_j, weight): # source j, target i\n",
    "    print('step3 get source features:',x_j,'normalized degree:',weight)\n",
    "    out = x_j*weight\n",
    "    print('step4 normalized source features:',out)\n",
    "    return out"
   ]
  },
  {
   "cell_type": "code",
   "execution_count": null,
   "metadata": {
    "id": "JiNyNINpeuIX"
   },
   "outputs": [],
   "source": [
    "layer = GCNLayer()"
   ]
  },
  {
   "cell_type": "code",
   "execution_count": null,
   "metadata": {
    "id": "twvWmIA4eWg7"
   },
   "outputs": [],
   "source": [
    "x = torch.randn(4,2)"
   ]
  },
  {
   "cell_type": "code",
   "execution_count": null,
   "metadata": {
    "colab": {
     "base_uri": "https://localhost:8080/"
    },
    "id": "OC2Z3F2EfLVC",
    "outputId": "5f3a7660-c7da-4565-93ac-daee66ef69b0"
   },
   "outputs": [
    {
     "data": {
      "text/plain": [
       "tensor([[-2.1208, -0.5321],\n",
       "        [-0.4745,  0.9924],\n",
       "        [ 0.1378,  0.6422],\n",
       "        [-0.6585, -1.2959]])"
      ]
     },
     "execution_count": 34,
     "metadata": {},
     "output_type": "execute_result"
    }
   ],
   "source": [
    "x"
   ]
  },
  {
   "cell_type": "code",
   "execution_count": null,
   "metadata": {
    "id": "wYWHHFTYeosU"
   },
   "outputs": [],
   "source": [
    "g = torch.tensor([[0,0,2,3,1],[1,3,1,1,0]],dtype=torch.long)"
   ]
  },
  {
   "cell_type": "code",
   "execution_count": null,
   "metadata": {
    "colab": {
     "base_uri": "https://localhost:8080/"
    },
    "id": "OCDprOZmI9tE",
    "outputId": "2938a559-f249-4532-cd51-febd25de4160"
   },
   "outputs": [
    {
     "name": "stdout",
     "output_type": "stream",
     "text": [
      "input node feature tensor([[-2.1208, -0.5321],\n",
      "        [-0.4745,  0.9924],\n",
      "        [ 0.1378,  0.6422],\n",
      "        [-0.6585, -1.2959]])\n",
      "step1, linear trasnform the node features: tensor([[ 0.1784, -0.3058,  1.1049],\n",
      "        [-1.1339,  0.2926, -0.6656],\n",
      "        [-0.9919, -0.0605, -0.6803],\n",
      "        [ 0.4678, -1.1036,  1.0191]], grad_fn=<AddmmBackward0>)\n",
      "src_d: tensor([1.0000, 1.0000, 0.0000, 1.0000, 1.7321]) dst_d: tensor([1.7321, 1.0000, 1.7321, 1.7321, 1.0000])\n",
      "step2 normalized degree: tensor([[1.7321],\n",
      "        [1.0000],\n",
      "        [0.0000],\n",
      "        [1.7321],\n",
      "        [1.7321]])\n",
      "step3 get source features: tensor([[ 0.1784, -0.3058,  1.1049],\n",
      "        [ 0.1784, -0.3058,  1.1049],\n",
      "        [-0.9919, -0.0605, -0.6803],\n",
      "        [ 0.4678, -1.1036,  1.0191],\n",
      "        [-1.1339,  0.2926, -0.6656]], grad_fn=<IndexSelectBackward0>) normalized degree: tensor([[1.7321],\n",
      "        [1.0000],\n",
      "        [0.0000],\n",
      "        [1.7321],\n",
      "        [1.7321]])\n",
      "step4 normalized source features: tensor([[ 0.3089, -0.5296,  1.9138],\n",
      "        [ 0.1784, -0.3058,  1.1049],\n",
      "        [-0.0000, -0.0000, -0.0000],\n",
      "        [ 0.8103, -1.9114,  1.7651],\n",
      "        [-1.9640,  0.5068, -1.1529]], grad_fn=<MulBackward0>)\n",
      "step5 tensor([[-1.9640,  0.5068, -1.1529],\n",
      "        [ 1.1192, -2.4411,  3.6790],\n",
      "        [ 0.0000,  0.0000,  0.0000],\n",
      "        [ 0.1784, -0.3058,  1.1049]], grad_fn=<ScatterAddBackward0>)\n"
     ]
    }
   ],
   "source": [
    "new_x = layer(g,x)"
   ]
  },
  {
   "cell_type": "code",
   "execution_count": null,
   "metadata": {
    "id": "RF9TRN3_2RNz"
   },
   "outputs": [],
   "source": [
    "import torch\n",
    "from torch.nn import Linear, Parameter\n",
    "from torch_geometric.nn import MessagePassing\n",
    "from torch_geometric.utils import add_self_loops, degree"
   ]
  },
  {
   "cell_type": "code",
   "execution_count": null,
   "metadata": {
    "id": "mdRY2UkwRGii"
   },
   "outputs": [],
   "source": [
    "bias = Parameter(torch.empty(10))"
   ]
  },
  {
   "cell_type": "code",
   "execution_count": null,
   "metadata": {
    "id": "PSjR13jRRL1u"
   },
   "outputs": [],
   "source": [
    "torch.empty?"
   ]
  },
  {
   "cell_type": "code",
   "execution_count": null,
   "metadata": {
    "colab": {
     "base_uri": "https://localhost:8080/"
    },
    "id": "sW88LDhoRI-Y",
    "outputId": "4ac8e0c0-f94a-44b7-d24a-9f964f35d10d"
   },
   "outputs": [
    {
     "data": {
      "text/plain": [
       "Parameter containing:\n",
       "tensor([3.0695e+37, 4.3868e-41, 4.6949e+20, 3.2917e-41, 1.0282e-14, 4.3868e-41,\n",
       "        5.6391e+20, 3.2917e-41, 0.0000e+00, 0.0000e+00], requires_grad=True)"
      ]
     },
     "execution_count": 83,
     "metadata": {},
     "output_type": "execute_result"
    }
   ],
   "source": [
    "bias"
   ]
  },
  {
   "cell_type": "code",
   "execution_count": null,
   "metadata": {
    "id": "08QEDKMietP7"
   },
   "outputs": [],
   "source": [
    "class GCNConv(MessagePassing):\n",
    "    def __init__(self, in_channels, out_channels):\n",
    "        super().__init__(aggr='add')  # \"Add\" aggregation (Step 5).\n",
    "        self.lin = Linear(in_channels, out_channels, bias=False)\n",
    "        self.bias = Parameter(torch.empty(out_channels))\n",
    "\n",
    "        self.reset_parameters()\n",
    "\n",
    "    def reset_parameters(self):\n",
    "        self.lin.reset_parameters()\n",
    "        self.bias.data.zero_()\n",
    "\n",
    "    def forward(self, x, edge_index):\n",
    "        # x has shape [N, in_channels]\n",
    "        # edge_index has shape [2, E]\n",
    "        print('step1',edge_index)\n",
    "        # Step 1: Add self-loops to the adjacency matrix.\n",
    "        edge_index, _ = add_self_loops(edge_index, num_nodes=x.size(0))\n",
    "        print('step2',edge_index)\n",
    "        print('x',x)\n",
    "        # Step 2: Linearly transform node feature matrix.\n",
    "        x = self.lin(x)\n",
    "\n",
    "        # Step 3: Compute normalization.\n",
    "        row, col = edge_index\n",
    "        print('row',row)\n",
    "        print('col',col)\n",
    "        deg = degree(col, x.size(0), dtype=x.dtype)\n",
    "        print('deg',deg)\n",
    "\n",
    "        deg_inv_sqrt = deg.pow(-0.5)\n",
    "        deg_inv_sqrt[deg_inv_sqrt == float('inf')] = 0\n",
    "        norm2 = (deg_inv_sqrt[row] * deg_inv_sqrt[col]).unsqueeze(1)\n",
    "        print('step3 normalize degrees',norm2)\n",
    "\n",
    "        # Step 4-5: Start propagating messages.\n",
    "        out = self.propagate(edge_index, x=x, norm=norm2) #会先把value传递给message，然后运用scatter合并\n",
    "        print(' step5 propage:', out)\n",
    "\n",
    "        # Step 6: Apply a final bias vector.\n",
    "        out = out + self.bias\n",
    "\n",
    "        return out\n",
    "\n",
    "    def message(self, x_j, norm): # message会分出source j 和target i 以及norm值\n",
    "        # x_j has shape [E, out_channels]\n",
    "        print('step4 normalize source feature',x_j,'norm:',norm)\n",
    "        # Step 4: Normalize node features.\n",
    "        return norm * x_j"
   ]
  },
  {
   "cell_type": "code",
   "execution_count": null,
   "metadata": {
    "id": "8g_iF__-2oKf"
   },
   "outputs": [],
   "source": [
    "edge_index = g"
   ]
  },
  {
   "cell_type": "code",
   "execution_count": null,
   "metadata": {
    "id": "i8542BKi2uvQ"
   },
   "outputs": [],
   "source": [
    "x = torch.randn(4,2)"
   ]
  },
  {
   "cell_type": "code",
   "execution_count": null,
   "metadata": {
    "id": "qfwxfdj4OtP3"
   },
   "outputs": [],
   "source": [
    "conv = GCNConv(2, 3)"
   ]
  },
  {
   "cell_type": "code",
   "execution_count": null,
   "metadata": {
    "colab": {
     "base_uri": "https://localhost:8080/"
    },
    "id": "hkX0_J692gdd",
    "outputId": "50cdfce4-da1e-40ed-a1af-85d13dbe4083"
   },
   "outputs": [
    {
     "name": "stdout",
     "output_type": "stream",
     "text": [
      "step1 tensor([[0, 0, 2, 3, 1],\n",
      "        [1, 3, 1, 1, 0]])\n",
      "step2 tensor([[0, 0, 2, 3, 1, 0, 1, 2, 3],\n",
      "        [1, 3, 1, 1, 0, 0, 1, 2, 3]])\n",
      "x tensor([[-2.1208, -0.5321],\n",
      "        [-0.4745,  0.9924],\n",
      "        [ 0.1378,  0.6422],\n",
      "        [-0.6585, -1.2959]])\n",
      "row tensor([0, 0, 2, 3, 1, 0, 1, 2, 3])\n",
      "col tensor([1, 3, 1, 1, 0, 0, 1, 2, 3])\n",
      "deg tensor([2., 4., 1., 2.])\n",
      "step3 normalize degrees tensor([[0.3536],\n",
      "        [0.5000],\n",
      "        [0.5000],\n",
      "        [0.3536],\n",
      "        [0.3536],\n",
      "        [0.5000],\n",
      "        [0.2500],\n",
      "        [1.0000],\n",
      "        [0.5000]])\n",
      "step4 normalize source feature tensor([[-0.9057, -1.6206,  0.2800],\n",
      "        [-0.9057, -1.6206,  0.2800],\n",
      "        [ 0.2167,  0.3905,  0.3159],\n",
      "        [-0.5749, -1.0340, -0.5348],\n",
      "        [ 0.0860,  0.1591,  0.6738],\n",
      "        [-0.9057, -1.6206,  0.2800],\n",
      "        [ 0.0860,  0.1591,  0.6738],\n",
      "        [ 0.2167,  0.3905,  0.3159],\n",
      "        [-0.5749, -1.0340, -0.5348]], grad_fn=<IndexSelectBackward0>) norm: tensor([[0.3536],\n",
      "        [0.5000],\n",
      "        [0.5000],\n",
      "        [0.3536],\n",
      "        [0.3536],\n",
      "        [0.5000],\n",
      "        [0.2500],\n",
      "        [1.0000],\n",
      "        [0.5000]])\n",
      " step5 propage: tensor([[-0.4224, -0.7541,  0.3782],\n",
      "        [-0.3936, -0.7035,  0.2363],\n",
      "        [ 0.2167,  0.3905,  0.3159],\n",
      "        [-0.7403, -1.3273, -0.1274]], grad_fn=<ScatterAddBackward0>)\n"
     ]
    }
   ],
   "source": [
    "\n",
    "out = conv(x, edge_index)"
   ]
  },
  {
   "cell_type": "code",
   "execution_count": null,
   "metadata": {
    "id": "nFVoA3TE2tK7"
   },
   "outputs": [],
   "source": []
  }
 ],
 "metadata": {
  "accelerator": "GPU",
  "colab": {
   "gpuType": "T4",
   "provenance": []
  },
  "kernelspec": {
   "display_name": "Python 3",
   "language": "python",
   "name": "python3"
  },
  "language_info": {
   "codemirror_mode": {
    "name": "ipython",
    "version": 3
   },
   "file_extension": ".py",
   "mimetype": "text/x-python",
   "name": "python",
   "nbconvert_exporter": "python",
   "pygments_lexer": "ipython3",
   "version": "3.10.10"
  }
 },
 "nbformat": 4,
 "nbformat_minor": 4
}
